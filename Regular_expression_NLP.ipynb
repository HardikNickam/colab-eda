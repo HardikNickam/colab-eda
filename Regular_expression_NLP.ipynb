{
  "nbformat": 4,
  "nbformat_minor": 0,
  "metadata": {
    "colab": {
      "provenance": [],
      "authorship_tag": "ABX9TyN1ToeknP2SK5Dro7/X7KQR",
      "include_colab_link": true
    },
    "kernelspec": {
      "name": "python3",
      "display_name": "Python 3"
    },
    "language_info": {
      "name": "python"
    }
  },
  "cells": [
    {
      "cell_type": "markdown",
      "metadata": {
        "id": "view-in-github",
        "colab_type": "text"
      },
      "source": [
        "<a href=\"https://colab.research.google.com/github/HardikNickam/colab-eda/blob/main/Regular_expression_NLP.ipynb\" target=\"_parent\"><img src=\"https://colab.research.google.com/assets/colab-badge.svg\" alt=\"Open In Colab\"/></a>"
      ]
    },
    {
      "cell_type": "code",
      "source": [
        "import re\n"
      ],
      "metadata": {
        "id": "SyQdoYwkejEl"
      },
      "execution_count": 2,
      "outputs": []
    },
    {
      "cell_type": "code",
      "source": [
        "chat1 = 'Hardik: you asked a lot of quesitons 1245345433, abcd@xyz.com'\n",
        "chat2 = 'Hardik: here it is (123)-123-4553, abcd@xyz.com'\n",
        "chat3 = 'Hardik: yes, phone: 1546786223 email:abcd@xyz.com'\n"
      ],
      "metadata": {
        "id": "DBPw1Juten1L"
      },
      "execution_count": 11,
      "outputs": []
    },
    {
      "cell_type": "code",
      "source": [
        "\n",
        "pattern = '\\d{10} | \\(\\d{3}\\)-\\d{3}-\\d{4}'\n",
        "\n",
        "matches = re.findall(pattern,chat3)\n",
        "matches"
      ],
      "metadata": {
        "colab": {
          "base_uri": "https://localhost:8080/"
        },
        "id": "SC3vHIq4D6q0",
        "outputId": "f869d3c4-c98b-4702-a8f8-736152f8d090"
      },
      "execution_count": 13,
      "outputs": [
        {
          "output_type": "execute_result",
          "data": {
            "text/plain": [
              "['1546786223 ']"
            ]
          },
          "metadata": {},
          "execution_count": 13
        }
      ]
    },
    {
      "cell_type": "code",
      "source": [
        "email='[a-z 0-9 A-Z_]*@[a-z 0-9 A-Z_]*\\.com'\n",
        "macth = re.findall(email,chat3)\n",
        "macth"
      ],
      "metadata": {
        "colab": {
          "base_uri": "https://localhost:8080/"
        },
        "id": "V0e2YmIlEMD_",
        "outputId": "5f5f6dfe-6f73-4f15-e471-f66e642ef5f8"
      },
      "execution_count": 15,
      "outputs": [
        {
          "output_type": "execute_result",
          "data": {
            "text/plain": [
              "['abcd@xyz.com']"
            ]
          },
          "metadata": {},
          "execution_count": 15
        }
      ]
    },
    {
      "cell_type": "code",
      "source": [
        "c1= 'Hardik: Hello, I am having an issue with my order # 412889912'\n",
        "c2= 'Hardik: I have a problem with my order number 412889912'\n",
        "c3= 'Hardik: My order 412889912 is having a issue , I was charged 300$ when online it says 280$'"
      ],
      "metadata": {
        "id": "0iTId98IGpKU"
      },
      "execution_count": 16,
      "outputs": []
    },
    {
      "cell_type": "code",
      "source": [
        "order = 'order[^\\d]*(\\d*)'\n",
        "mtch = re.findall(order,c2)\n",
        "mtch"
      ],
      "metadata": {
        "colab": {
          "base_uri": "https://localhost:8080/"
        },
        "id": "KZXlwHG9HbVQ",
        "outputId": "73ae4dbc-04dd-4bb2-88b0-659be4144a01"
      },
      "execution_count": 17,
      "outputs": [
        {
          "output_type": "execute_result",
          "data": {
            "text/plain": [
              "['412889912']"
            ]
          },
          "metadata": {},
          "execution_count": 17
        }
      ]
    },
    {
      "cell_type": "code",
      "source": [],
      "metadata": {
        "id": "wdze2dHGH_S0"
      },
      "execution_count": null,
      "outputs": []
    }
  ]
}