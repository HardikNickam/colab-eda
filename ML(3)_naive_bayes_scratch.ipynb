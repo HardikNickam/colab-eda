{
  "nbformat": 4,
  "nbformat_minor": 0,
  "metadata": {
    "colab": {
      "provenance": [],
      "authorship_tag": "ABX9TyODP+h5yjcf09galUL2SH3Z",
      "include_colab_link": true
    },
    "kernelspec": {
      "name": "python3",
      "display_name": "Python 3"
    },
    "language_info": {
      "name": "python"
    }
  },
  "cells": [
    {
      "cell_type": "markdown",
      "metadata": {
        "id": "view-in-github",
        "colab_type": "text"
      },
      "source": [
        "<a href=\"https://colab.research.google.com/github/HardikNickam/colab-eda/blob/main/ML(3)_naive_bayes_scratch.ipynb\" target=\"_parent\"><img src=\"https://colab.research.google.com/assets/colab-badge.svg\" alt=\"Open In Colab\"/></a>"
      ]
    },
    {
      "cell_type": "code",
      "execution_count": 1,
      "metadata": {
        "id": "iYegfrACEFlP"
      },
      "outputs": [],
      "source": [
        "import numpy as np"
      ]
    },
    {
      "cell_type": "code",
      "source": [
        "class NaiveBayes:\n",
        "  def fit(self,X , y):\n",
        "    n_samples,n_features = X.shape\n",
        "    self._classes = np.unique(y)\n",
        "    n_classes = len(self._classes)\n",
        "\n",
        "    self._mean=np.zeros((n_classes,n_features),dtype=np.float64)\n",
        "    self._var=np.zeros((n_classes,n_features),dtype=np.float64)\n",
        "    self._priors=np.zeros((n_classes,n_features),dtype=np.float64)\n",
        "\n",
        "    for idx,c in enumerate(self._classes):\n",
        "      X_c=X[y==c]\n",
        "      self._mean[idx,:] = X_c.mean(axis=0)\n",
        "      self._var[idx,:] = X_c.var(axis=0)\n",
        "      self.priors[idx] = X_c.shape[0]/float(n_samples)\n"
      ],
      "metadata": {
        "id": "B63b1Dgpfu96"
      },
      "execution_count": 2,
      "outputs": []
    },
    {
      "cell_type": "code",
      "source": [
        "def perdict(self,X):\n",
        "  y_pred = [self.predict(x) for x in X]\n",
        "  return np.array(y_pred)\n",
        "\n",
        "def _predict(self,x):\n",
        "  posteriors = []\n",
        "\n",
        "  for"
      ],
      "metadata": {
        "id": "TWS8B9aQnK5H"
      },
      "execution_count": null,
      "outputs": []
    }
  ]
}