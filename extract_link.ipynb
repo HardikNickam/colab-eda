{
  "nbformat": 4,
  "nbformat_minor": 0,
  "metadata": {
    "colab": {
      "provenance": [],
      "authorship_tag": "ABX9TyN5eBz7n6sebpjxo7C3usji",
      "include_colab_link": true
    },
    "kernelspec": {
      "name": "python3",
      "display_name": "Python 3"
    },
    "language_info": {
      "name": "python"
    }
  },
  "cells": [
    {
      "cell_type": "markdown",
      "metadata": {
        "id": "view-in-github",
        "colab_type": "text"
      },
      "source": [
        "<a href=\"https://colab.research.google.com/github/HardikNickam/colab-eda/blob/main/extract_link.ipynb\" target=\"_parent\"><img src=\"https://colab.research.google.com/assets/colab-badge.svg\" alt=\"Open In Colab\"/></a>"
      ]
    },
    {
      "cell_type": "code",
      "source": [
        "import requests\n",
        "from bs4 import BeautifulSoup\n",
        "\n",
        "# URL of the page\n",
        "base_url = \"https://www.noon.com/egypt-en/sports-and-outdoors/exercise-and-fitness/yoga-16328/?limit=50&page=\"\n",
        "\n",
        "# proxy\n",
        "proxies = {\n",
        "    'http': '46.175.1.65:8080',\n",
        "    'http': '47.243.92.199:3128'\n",
        "}\n",
        "\n",
        "\n",
        "with open('product_links.txt', 'w') as file:\n",
        "    # Loop the first 5 pages as we need 250 links and each page has 50 products\n",
        "    for page in range(1, 6):\n",
        "        url = base_url + str(page)\n",
        "        response = requests.get(url, proxies=proxies)\n",
        "        soup = BeautifulSoup(response.text, 'html.parser')\n",
        "\n",
        "        # Find all anchor tags within \"sc-19767e73-0 bwele\" div class\n",
        "        divs = soup.find_all('div', class_=\"sc-19767e73-0 bwele\")\n",
        "        for div in divs:\n",
        "            a_tag = div.find('a', href=True)\n",
        "            if a_tag:\n",
        "                # concatinate the link to the file\n",
        "                file.write('https://www.noon.com/'+a_tag['href'] + '\\n')\n",
        "\n",
        "print(\"Links have been saved to 'product_links.txt'.\")"
      ],
      "metadata": {
        "colab": {
          "base_uri": "https://localhost:8080/"
        },
        "id": "mgePSS4F-_Tf",
        "outputId": "8765836d-5f90-40b3-8e87-4518d531ab34"
      },
      "execution_count": null,
      "outputs": [
        {
          "output_type": "stream",
          "name": "stdout",
          "text": [
            "Links have been saved to 'product_links.txt'.\n"
          ]
        }
      ]
    }
  ]
}