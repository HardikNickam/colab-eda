{
  "nbformat": 4,
  "nbformat_minor": 0,
  "metadata": {
    "colab": {
      "provenance": [],
      "authorship_tag": "ABX9TyPsWUjfrSUJe5nHDLSHnguY",
      "include_colab_link": true
    },
    "kernelspec": {
      "name": "python3",
      "display_name": "Python 3"
    },
    "language_info": {
      "name": "python"
    }
  },
  "cells": [
    {
      "cell_type": "markdown",
      "metadata": {
        "id": "view-in-github",
        "colab_type": "text"
      },
      "source": [
        "<a href=\"https://colab.research.google.com/github/HardikNickam/colab-eda/blob/main/OOPs.ipynb\" target=\"_parent\"><img src=\"https://colab.research.google.com/assets/colab-badge.svg\" alt=\"Open In Colab\"/></a>"
      ]
    },
    {
      "cell_type": "code",
      "execution_count": 7,
      "metadata": {
        "colab": {
          "base_uri": "https://localhost:8080/"
        },
        "id": "MSgWVlguJDP8",
        "outputId": "14f84c8e-7a8f-47e7-fe4c-938e45c5b7b2"
      },
      "outputs": [
        {
          "output_type": "stream",
          "name": "stdout",
          "text": [
            "toyota\n",
            "corolla\n",
            "tata\n",
            "tiger\n"
          ]
        }
      ],
      "source": [
        "#create basic class and object\n",
        "\n",
        "class Car:\n",
        "  def __init__(self,brand,model):\n",
        "    self.brand = brand\n",
        "    self.model = model\n",
        "\n",
        "\n",
        "my_car = Car(\"toyota\",\"corolla\")\n",
        "\n",
        "print(my_car.brand)\n",
        "\n",
        "print(my_car.model)\n",
        "\n",
        "mynew_car = Car(\"tata\",\"tiger\")\n",
        "print(mynew_car.brand)\n",
        "\n",
        "print(mynew_car.model)"
      ]
    },
    {
      "cell_type": "code",
      "source": [
        "#class methods and self\n",
        "class Car:\n",
        "  def __init__(self,brand,model):\n",
        "    self.brand = brand\n",
        "    self.model = model\n",
        "\n",
        "  def full_name(self):\n",
        "    return f\"{self.brand} {self.model}\"\n",
        "\n",
        "\n",
        "\n",
        "my_car = Car(\"toyota\",\"corolla\")\n",
        "print(my_car.brand)\n",
        "print(my_car.model)\n",
        "print(my_car.full_name())\n",
        "\n",
        "mynew_car = Car(\"tata\",\"tiger\")\n",
        "print(mynew_car.brand)\n",
        "print(mynew_car.model)"
      ],
      "metadata": {
        "colab": {
          "base_uri": "https://localhost:8080/"
        },
        "id": "-R3fnjPsJcL7",
        "outputId": "17f36751-f6f6-49be-82c2-7e89699b50c9"
      },
      "execution_count": 12,
      "outputs": [
        {
          "output_type": "stream",
          "name": "stdout",
          "text": [
            "toyota\n",
            "corolla\n",
            "toyota corolla\n",
            "tata\n",
            "tiger\n"
          ]
        }
      ]
    },
    {
      "cell_type": "code",
      "source": [
        "#inheritence\n",
        "class Car:\n",
        "  def __init__(self,brand,model):\n",
        "    self.brand = brand\n",
        "    self.model = model\n",
        "\n",
        "  def full_name(self):\n",
        "    return f\"{self.brand} {self.model}\"\n",
        "\n",
        "\n",
        "class ElectricCar(Car):\n",
        "  def __init__(self,brand,model,battery_size):\n",
        "    super().__init__(brand,model)\n",
        "    self.battery_size = battery_size\n",
        "\n",
        "# my_car = Car(\"toyota\",\"corolla\")\n",
        "# print(my_car.brand)\n",
        "# print(my_car.model)\n",
        "# print(my_car.full_name())\n",
        "\n",
        "# mynew_car = Car(\"tata\",\"tiger\")\n",
        "# print(mynew_car.brand)\n",
        "# print(mynew_car.model)\n",
        "\n",
        "# mynew_car = Car(\"tata\",\"foog\")\n",
        "# print(mynew_car.brand)\n",
        "# print(mynew_car.model)\n",
        "# # print(mynew_car.)\n",
        "\n",
        "Tesla = ElectricCar(\"tesla\",\"model x\", \"48kwh\")\n",
        "print(Tesla.brand)\n",
        "print(Tesla.full_name())"
      ],
      "metadata": {
        "colab": {
          "base_uri": "https://localhost:8080/"
        },
        "id": "FBJ8RN58Lc0b",
        "outputId": "8b47a474-4000-42e7-88eb-b7ec5d950352"
      },
      "execution_count": 16,
      "outputs": [
        {
          "output_type": "stream",
          "name": "stdout",
          "text": [
            "tesla\n",
            "tesla model x\n"
          ]
        }
      ]
    },
    {
      "cell_type": "code",
      "source": [
        "# encapsulation\n",
        "\n",
        "#modify Car class to encapsulate the brand attribute,making it private, and provide a getter method for it\n",
        "class Car:\n",
        "  def __init__(self,brand,model):\n",
        "    self.__brand = brand\n",
        "    self.model = model\n",
        "  def get_brand(self):\n",
        "    return self.__brand + \" !!\"\n",
        "\n",
        "  def full_name(self):\n",
        "    return f\"{self.__brand} {self.model}\"\n",
        "\n",
        "  def fuel_type(self):\n",
        "    return \" Petrol or diesel\"\n",
        "\n",
        "\n",
        "class ElectricCar(Car):\n",
        "  def __init__(self,brand,model,battery_size):\n",
        "    super().__init__(brand,model)\n",
        "    self.battery_size = battery_size\n",
        "\n",
        "  def fuel_type(self):\n",
        "    return \" Electric charge\"\n",
        "\n",
        "\n",
        "\n",
        "Tesla = ElectricCar(\"tesla\",\"model x\", \"48kwh\")\n",
        "# print(Tesla.__brand)\n",
        "print(Tesla.get_brand())\n",
        "print(Tesla.fuel_type())\n",
        "\n",
        "my_car = Car(\"toyota\",\"corolla\")\n",
        "print(my_car.get_brand())\n",
        "print(my_car.fuel_type())"
      ],
      "metadata": {
        "colab": {
          "base_uri": "https://localhost:8080/"
        },
        "id": "TGbgspFtM77X",
        "outputId": "7143a2c4-9f1c-4e23-f4ae-2520f76d24c7"
      },
      "execution_count": 25,
      "outputs": [
        {
          "output_type": "stream",
          "name": "stdout",
          "text": [
            "tesla !!\n",
            " Electric charge\n",
            "toyota !!\n",
            " Petrol or diesel\n"
          ]
        }
      ]
    },
    {
      "cell_type": "code",
      "source": [
        "#polymorphisam\n",
        "\n",
        "# defining a method fuel_type in both Car and ElectricCar classes nut with different behavior\n",
        "\n",
        "# encapsulation\n",
        "\n",
        "#modify Car class to encapsulate the brand attribute,making it private, and provide a getter method for it\n",
        "\n",
        "# Class variable\n",
        "\n",
        "\n",
        "class Car:\n",
        "  total_car = 0\n",
        "  def __init__(self,brand,model):\n",
        "    self.__brand = brand\n",
        "    self.model = model\n",
        "    Car.total_car+=1\n",
        "  def get_brand(self):\n",
        "    return self.__brand + \" !!\"\n",
        "\n",
        "  def full_name(self):\n",
        "    return f\"{self.__brand} {self.model}\"\n",
        "\n",
        "  def fuel_type(self):\n",
        "    return \" Petrol or diesel\"\n",
        "\n",
        "\n",
        "class ElectricCar(Car):\n",
        "  def __init__(self,brand,model,battery_size):\n",
        "    super().__init__(brand,model)\n",
        "    self.battery_size = battery_size\n",
        "\n",
        "  def fuel_type(self):\n",
        "    return \" Electric charge\"\n",
        "\n",
        "\n",
        "\n",
        "Tesla = ElectricCar(\"tesla\",\"model x\", \"48kwh\")\n",
        "# print(Tesla.__brand)\n",
        "print(Tesla.get_brand())\n",
        "print(Tesla.fuel_type())\n",
        "\n",
        "my_car = Car(\"toyota\",\"corolla\")\n",
        "print(my_car.get_brand())\n",
        "print(my_car.fuel_type())\n",
        "\n",
        "mynew_car = Car(\"tata\",\"tiger\")\n",
        "\n",
        "\n",
        "print(my_car.total_car)\n"
      ],
      "metadata": {
        "colab": {
          "base_uri": "https://localhost:8080/"
        },
        "id": "49DerRaBPbxy",
        "outputId": "ea3e2b7c-ac8c-4a48-819a-f257b8bcdfe3"
      },
      "execution_count": 29,
      "outputs": [
        {
          "output_type": "stream",
          "name": "stdout",
          "text": [
            "tesla !!\n",
            " Electric charge\n",
            "toyota !!\n",
            " Petrol or diesel\n",
            "3\n"
          ]
        }
      ]
    },
    {
      "cell_type": "code",
      "source": [
        "# Static MEthod\n",
        " # add static method of the Car that returns a gerneral description of a car\n",
        "\n",
        "\n",
        "class Car:\n",
        "  total_car = 0\n",
        "  def __init__(self,brand,model):\n",
        "    self.__brand = brand\n",
        "    self.model = model\n",
        "    Car.total_car+=1\n",
        "  def get_brand(self):\n",
        "    return self.__brand + \" !!\"\n",
        "\n",
        "  def full_name(self):\n",
        "    return f\"{self.__brand} {self.model}\"\n",
        "\n",
        "  def fuel_type(self):\n",
        "    return \" Petrol or diesel\"\n",
        "  @staticmethod\n",
        "  def gen_description():\n",
        "    return \"cars are amazing and cool\"\n",
        "\n",
        "\n",
        "class ElectricCar(Car):\n",
        "  def __init__(self,brand,model,battery_size):\n",
        "    super().__init__(brand,model)\n",
        "    self.battery_size = battery_size\n",
        "\n",
        "  def fuel_type(self):\n",
        "    return \" Electric charge\"\n",
        "\n",
        "\n",
        "mynew_car = Car(\"tata\",\"tiger\")\n",
        "\n",
        "\n",
        "print(my_car.total_car)\n",
        "\n",
        "# print(mynew_car.gen_description())\n",
        "\n",
        "print(Car.gen_description())"
      ],
      "metadata": {
        "colab": {
          "base_uri": "https://localhost:8080/"
        },
        "id": "O7Ve5OY4Oxwn",
        "outputId": "90a5d349-dfb6-4b6c-bd13-c95df3304b9f"
      },
      "execution_count": 36,
      "outputs": [
        {
          "output_type": "stream",
          "name": "stdout",
          "text": [
            "3\n",
            "cars are amazing and cool\n"
          ]
        }
      ]
    },
    {
      "cell_type": "code",
      "source": [
        "#property decorator\n",
        "\n",
        "# make model attribute read only\n",
        "\n",
        "# Static MEthod\n",
        " # add static method of the Car that returns a gerneral description of a car\n",
        "\n",
        "\n",
        "class Car:\n",
        "  total_car = 0\n",
        "  def __init__(self,brand,__model):\n",
        "    self.__brand = brand\n",
        "    self.__model = __model\n",
        "    Car.total_car+=1\n",
        "  def get_brand(self):\n",
        "    return self.__brand + \" !!\"\n",
        "  @property\n",
        "  def model(self):\n",
        "    return self.__model\n",
        "\n",
        "  def full_name(self):\n",
        "    return f\"{self.__brand} {self.__model}\"\n",
        "\n",
        "  def fuel_type(self):\n",
        "    return \" Petrol or diesel\"\n",
        "  @staticmethod\n",
        "  def gen_description():\n",
        "    return \"cars are amazing and cool\"\n",
        "\n",
        "\n",
        "class ElectricCar(Car):\n",
        "  def __init__(self,brand,model,battery_size):\n",
        "    super().__init__(brand,model)\n",
        "    self.battery_size = battery_size\n",
        "\n",
        "  def fuel_type(self):\n",
        "    return \" Electric charge\"\n",
        "\n",
        "\n",
        "mynew_car = Car(\"tata\",\"tiger\")\n",
        "# mynew_car.model = \"Cornell\"\n",
        "\n",
        "print(my_car.total_car)\n",
        "\n",
        "# print(mynew_car.gen_description())\n",
        "\n",
        "print(mynew_car.model)"
      ],
      "metadata": {
        "colab": {
          "base_uri": "https://localhost:8080/"
        },
        "id": "VN8ohXDMXMIv",
        "outputId": "d8879120-44b1-4d92-d0fa-d5a9a2ec26b4"
      },
      "execution_count": 43,
      "outputs": [
        {
          "output_type": "stream",
          "name": "stdout",
          "text": [
            "3\n",
            "tiger\n"
          ]
        }
      ]
    },
    {
      "cell_type": "code",
      "source": [
        "# isinstence\n",
        "\n",
        "class Car:\n",
        "  total_car = 0\n",
        "  def __init__(self,brand,__model):\n",
        "    self.__brand = brand\n",
        "    self.__model = __model\n",
        "    Car.total_car+=1\n",
        "  def get_brand(self):\n",
        "    return self.__brand + \" !!\"\n",
        "  @property\n",
        "  def model(self):\n",
        "    return self.__model\n",
        "\n",
        "  def full_name(self):\n",
        "    return f\"{self.__brand} {self.__model}\"\n",
        "\n",
        "  def fuel_type(self):\n",
        "    return \" Petrol or diesel\"\n",
        "  @staticmethod\n",
        "  def gen_description():\n",
        "    return \"cars are amazing and cool\"\n",
        "\n",
        "\n",
        "class ElectricCar(Car):\n",
        "  def __init__(self,brand,model,battery_size):\n",
        "    super().__init__(brand,model)\n",
        "    self.battery_size = battery_size\n",
        "\n",
        "  def fuel_type(self):\n",
        "    return \" Electric charge\"\n",
        "\n",
        "\n",
        "Tesla = ElectricCar(\"tesla\",\"model x\", \"48kwh\")\n",
        "print(isinstance(Tesla,Car))\n",
        "print(isinstance(Tesla,ElectricCar))"
      ],
      "metadata": {
        "colab": {
          "base_uri": "https://localhost:8080/"
        },
        "id": "sDjH9Tf1aezC",
        "outputId": "0d4b5022-745c-4c96-afa4-deb4f3246bcf"
      },
      "execution_count": 46,
      "outputs": [
        {
          "output_type": "stream",
          "name": "stdout",
          "text": [
            "True\n",
            "True\n"
          ]
        }
      ]
    },
    {
      "cell_type": "code",
      "source": [
        "# multiple inheritence\n",
        "\n",
        "class Car:\n",
        "  total_car = 0\n",
        "  def __init__(self,brand,__model):\n",
        "    self.__brand = brand\n",
        "    self.__model = __model\n",
        "    Car.total_car+=1\n",
        "  def get_brand(self):\n",
        "    return self.__brand + \" !!\"\n",
        "  @property\n",
        "  def model(self):\n",
        "    return self.__model\n",
        "\n",
        "  def full_name(self):\n",
        "    return f\"{self.__brand} {self.__model}\"\n",
        "\n",
        "  def fuel_type(self):\n",
        "    return \" Petrol or diesel\"\n",
        "  @staticmethod\n",
        "  def gen_description():\n",
        "    return \"cars are amazing and cool\"\n",
        "\n",
        "\n",
        "class ElectricCar(Car):\n",
        "  def __init__(self,brand,model,battery_size):\n",
        "    super().__init__(brand,model)\n",
        "    self.battery_size = battery_size\n",
        "\n",
        "  def fuel_type(self):\n",
        "    return \" Electric charge\"\n",
        "\n",
        "\n",
        "\n",
        "\n",
        "class Battery:\n",
        "  def battery_info(self):\n",
        "    return \"this is battery\"\n",
        "\n",
        "\n",
        "class Engine:\n",
        "  def engine_info(self):\n",
        "    return \"this is Engine\"\n",
        "\n",
        "\n",
        "\n",
        "class ElecCar(Battery,Engine,Car):\n",
        "  pass\n",
        "\n",
        "\n",
        "myTesla = ElecCar(\"Tesla\",\"model s\")\n",
        "\n",
        "print(myTesla.battery_info())"
      ],
      "metadata": {
        "colab": {
          "base_uri": "https://localhost:8080/"
        },
        "id": "W67rwEpBbwsV",
        "outputId": "4bc72eb0-ab68-4822-c89c-d412c4377ade"
      },
      "execution_count": 52,
      "outputs": [
        {
          "output_type": "stream",
          "name": "stdout",
          "text": [
            "this is battery\n"
          ]
        }
      ]
    },
    {
      "cell_type": "code",
      "source": [],
      "metadata": {
        "id": "Y6jBq66gcyYN"
      },
      "execution_count": null,
      "outputs": []
    }
  ]
}